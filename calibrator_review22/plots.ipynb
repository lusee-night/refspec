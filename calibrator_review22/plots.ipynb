{
 "cells": [
  {
   "cell_type": "code",
   "execution_count": 1,
   "id": "da0da078-d28f-4174-abb8-43fc3e40de83",
   "metadata": {},
   "outputs": [],
   "source": [
    "import numpy as np\n",
    "%load_ext autoreload\n",
    "%autoreload 2\n",
    "from CalRun import CalRun, CalPredictor, shift_vec\n",
    "from tqdm.notebook import tqdm\n",
    "import matplotlib"
   ]
  },
  {
   "cell_type": "code",
   "execution_count": 2,
   "id": "040eea5f-584d-44b7-8c52-6008f2949893",
   "metadata": {
    "tags": []
   },
   "outputs": [
    {
     "name": "stdout",
     "output_type": "stream",
     "text": [
      "cache/7282a7df60c0dd69282593df80c0e1d5.pickle\n",
      "max cor: 511.99964210066884\n"
     ]
    }
   ],
   "source": [
    "tcalshift = 300\n",
    "dtrue = 1.\n",
    "A=1.0\n",
    "c= CalRun (N=120, pf=False, sky=False, cal=True, notch=True, verbose=False, drift=dtrue, A=A, \n",
    "                 calfile = \"data/samples/calib_filt.txt\", cal_shift = tcalshift,seed=int(A*999),force=False)\n",
    "c.get_sig(tcalshift,dtrue,\"data/samples/calib_filt.txt\")"
   ]
  },
  {
   "cell_type": "code",
   "execution_count": 3,
   "id": "a3158232-4103-494e-addc-87b9fc681c37",
   "metadata": {},
   "outputs": [
    {
     "name": "stderr",
     "output_type": "stream",
     "text": [
      "/usr/local/lib/python3.10/site-packages/matplotlib/cbook/__init__.py:1298: ComplexWarning: Casting complex values to real discards the imaginary part\n",
      "  return np.asarray(x, float)\n"
     ]
    },
    {
     "data": {
      "text/plain": [
       "[<matplotlib.lines.Line2D at 0x7f14e498e5f0>]"
      ]
     },
     "execution_count": 3,
     "metadata": {},
     "output_type": "execute_result"
    },
    {
     "data": {
      "image/png": "[encoded data removed]",
      "text/plain": [
       "<Figure size 432x288 with 1 Axes>"
      ]
     },
     "metadata": {
      "needs_background": "light"
     },
     "output_type": "display_data"
    }
   ],
   "source": [
    "plt.plot(c.rbeam)           "
   ]
  },
  {
   "cell_type": "code",
   "execution_count": 4,
   "id": "78f5a8ce-4c15-4005-bed2-4ac948af1dd9",
   "metadata": {},
   "outputs": [],
   "source": [
    "#c=CalRun(N=20, sky=False, pf=False, cal=True,verbose=True, notch=False,calfile=\"data/samples/calib_band.txt\")\n",
    "#w=CalRun(N=20, sky=True, pf=False, cal=False, pkfile=\"data/Pk/Pk_white-22.txt\", verbose=True)"
   ]
  },
  {
   "cell_type": "code",
   "execution_count": 5,
   "id": "ff5b826a-87e1-4048-b5d9-893e3c24d5ee",
   "metadata": {},
   "outputs": [],
   "source": [
    "#CalPredictor(16,0.1,c.cumdrift,\"data/samples/calib_band.txt\")"
   ]
  },
  {
   "cell_type": "code",
   "execution_count": null,
   "id": "12196a51-1298-4c6a-a149-4a19501a426a",
   "metadata": {},
   "outputs": [
    {
     "name": "stdout",
     "output_type": "stream",
     "text": [
      "cache/46b8e778549b9315ed5c73777a2436cc.pickle\n",
      "cache/d3913263fbf875900cd68424330006cd.pickle\n",
      "cache/7be830b1dcf36cb6ad24fa39f1820398.pickle\n",
      "cache/1f3ed66ef908f3d3f4aad2155eb8d326.pickle\n"
     ]
    }
   ],
   "source": [
    "Sk = CalRun (N=120, sky=True, pf=False, cal=False, notch=False, verbose=False)\n",
    "Pf = CalRun (N=120, sky=False, pf=True, cal=False, notch=False, verbose=False)\n",
    "Ca = CalRun (N=120, sky=False, pf=False, cal=True, notch=False, verbose=False)\n",
    "To = CalRun (N=120, sky=True, pf=True, cal=True, notch=False, verbose=False)"
   ]
  },
  {
   "cell_type": "code",
   "execution_count": null,
   "id": "b330771c-9120-4518-9f38-957535e6634f",
   "metadata": {},
   "outputs": [],
   "source": [
    "fig, ax = plt.subplots(figsize=(10,5))\n",
    "ax.plot(Sk.k, Sk.Pk.mean(axis=0),'r-', label='Sky + Plasma + Noise')\n",
    "ax.plot(Sk.k, Pf.Pk.mean(axis=0),'g-', label='Picket fence comb')\n",
    "ax.plot(Sk.k, Ca.Pk.mean(axis=0),'b-', label='Calibration comb')\n",
    "ax.plot(Sk.k, To.Pk.mean(axis=0),'k:', label='Total')\n",
    "\n",
    "ax.set_xlabel('frequency [MHz]',fontsize=14)\n",
    "ax.set_ylabel('Power [$V^2/Hz$]',fontsize=14)\n",
    "#ax.semilogy()\n",
    "ax.loglog()\n",
    "plt.legend()\n",
    "plt.ylim(1e-15,1e-4)\n",
    "plt.xlim(0.02,10)\n",
    "plt.savefig('spec_demo0.pdf')"
   ]
  },
  {
   "cell_type": "code",
   "execution_count": null,
   "id": "61872f96-8745-4c8c-8f1c-22bcdd32becb",
   "metadata": {},
   "outputs": [],
   "source": [
    "S = CalRun (N=120, pf=True, cal=True, notch=True, verbose=False)"
   ]
  },
  {
   "cell_type": "code",
   "execution_count": null,
   "id": "e3f5d67d-a875-4541-ae3f-0fdd1cb6f746",
   "metadata": {},
   "outputs": [],
   "source": [
    "kt,Pt = np.loadtxt('../data/Pk/Pk_wnoise.txt').T\n",
    "fig, ax = plt.subplots(figsize=(10,5))\n",
    "ax.plot(S.k, S.Pk.mean(axis=0),'r.', label='Spectrometer output')\n",
    "ax.plot(kt[kt>0.01],Pt[kt>0.01],'k--',label='Input model')\n",
    "ax.set_xlabel('frequency [MHz]',fontsize=14)\n",
    "ax.set_ylabel('Power [$V^2/Hz$]',fontsize=14)\n",
    "ax.semilogy()\n",
    "plt.legend()#loc=(0.06,0.83))\n",
    "newax = fig.add_axes([0.235,0.50,0.45,0.34], anchor='NE', zorder=1)\n",
    "newax.plot(S.k, S.Pk.mean(axis=0),'r.')\n",
    "newax.plot(kt[kt>0.01],Pt[kt>0.01],'k--')\n",
    "newax.set_xlim(29,31)\n",
    "newax.set_ylim(0.9e-9,1.1e-9)\n",
    "plt.savefig('spec_demo.pdf')"
   ]
  },
  {
   "cell_type": "code",
   "execution_count": null,
   "id": "8fd4c930-bb7c-462a-a4bc-b0003bb0e64a",
   "metadata": {},
   "outputs": [],
   "source": [
    "S={}\n",
    "for d in tqdm(np.arange(-1.4, +1.4, 0.05)):\n",
    "    S[d]=CalRun (N=120, pf=True, cal=True, notch=True, verbose=False, drift=d, \n",
    "                 calfile = \"data/samples/calib_filt.txt\")\n",
    "    S[d].get_cal()"
   ]
  },
  {
   "cell_type": "code",
   "execution_count": null,
   "id": "af38566a-8fc8-4e89-a99e-319e41a56e69",
   "metadata": {},
   "outputs": [],
   "source": [
    "plt.figure(figsize=(8,4))\n",
    "for k,val in list(S.items())[4:-3:4]:\n",
    "    val.get_cal()\n",
    "    plt.plot(np.hstack((val.cumdrift,0)))\n",
    "    print (k,val.idrift.mean()/(40*20*4096)*1e6, val.drift_ppm)\n",
    "    plt.plot([0,len(val.cumdrift)],[(800*1024*(5*val.N)*k*1e-6),0],'k:')\n",
    "#plt.xlim(360,400)\n",
    "#plt.ylim(200,250)\n",
    "plt.ylabel('shift size [samples]')\n",
    "plt.xlabel('packet number')\n",
    "plt.savefig('tracking1.pdf')"
   ]
  },
  {
   "cell_type": "code",
   "execution_count": null,
   "id": "256a1910-9c5f-49b2-bdda-ef7ca4de331d",
   "metadata": {},
   "outputs": [],
   "source": [
    "drift_det = np.array([[k,val.drift_ppm] for k,val in  list(S.items())[4:-3:1]])\n",
    "plt.plot(drift_det[:,0],drift_det[:,1]-drift_det[:,0],'ro-')\n",
    "plt.xlabel('true drift [ppm]')\n",
    "plt.ylabel('drift error [ppm]')\n",
    "plt.savefig('tracking2.pdf')"
   ]
  },
  {
   "cell_type": "code",
   "execution_count": null,
   "id": "34fb2bde-b2b7-40eb-a02d-56f03dd7bf3b",
   "metadata": {},
   "outputs": [],
   "source": [
    "S=[]\n",
    "dbl = np.arange(0,30,1)\n",
    "for db in tqdm(dbl):\n",
    "    A = np.sqrt(10**(-db/10))\n",
    "    S.append(CalRun (N=120, pf=True, cal=True, notch=True, verbose=False, drift=-0.7, A=A,\n",
    "                 calfile = \"data/samples/calib_filt.txt\"))"
   ]
  },
  {
   "cell_type": "code",
   "execution_count": null,
   "id": "53b42a3b-1d21-4780-ae8a-091f4f342ec5",
   "metadata": {},
   "outputs": [],
   "source": [
    "_=[s.get_cal() for s in S]"
   ]
  },
  {
   "cell_type": "code",
   "execution_count": null,
   "id": "5c531b03-3fe3-4f1b-8d03-7cf74e55e110",
   "metadata": {},
   "outputs": [],
   "source": [
    "plt.figure(figsize=(8,4))\n",
    "cmap = matplotlib.cm.get_cmap('plasma')\n",
    "for cc,(db,val) in enumerate(list(zip(dbl,S))):\n",
    "    val.get_cal()\n",
    "    label= f'-{db}dB' if db%5==0 else None\n",
    "    plt.plot(np.hstack((val.cumdrift,0)),'.-',label=label, color=cmap(cc/30))\n",
    "plt.plot([0,len(val.cumdrift)],[(800*1024*(5*val.N)*-0.7*1e-6),0],'k:')\n",
    "plt.xlim(360,380)\n",
    "plt.ylim(-180,-140)\n",
    "plt.ylabel('shift size [samples]')\n",
    "plt.xlabel('packet number')\n",
    "plt.legend()\n",
    "plt.savefig('tracking3.pdf')"
   ]
  },
  {
   "cell_type": "code",
   "execution_count": null,
   "id": "33a1b4eb-6107-467b-9552-143f5b9e8079",
   "metadata": {},
   "outputs": [],
   "source": [
    "drift_det = np.array([val.drift_ppm for val in S])\n",
    "plt.plot(dbl,drift_det+0.7,'ro-')\n",
    "plt.semilogy()\n",
    "plt.xlabel('Signal suppression to fiduciual[dB]')\n",
    "plt.ylabel('drift error [ppm]')\n",
    "plt.savefig('tracking4.pdf')"
   ]
  },
  {
   "cell_type": "code",
   "execution_count": null,
   "id": "ce6b5363-847d-4a6f-a4f9-a26487bbe8bf",
   "metadata": {},
   "outputs": [],
   "source": [
    "dtrue=-0.7\n",
    "tcalshift=4003\n",
    "dBlist = np.arange(+20,-21,-1)\n",
    "#dBlist = [+0.0]\n",
    "noisy=[]\n",
    "for dB in tqdm(dBlist):\n",
    "    A=np.sqrt(10**(dB/10))\n",
    "    C=CalRun (N=120, pf=True, sky=True, cal=True, notch=True, verbose=False, drift=dtrue, A=A, \n",
    "                 calfile = \"data/samples/calib_filt.txt\", cal_shift = tcalshift,seed=int(A*999))\n",
    "    b=C.drift_ppm\n",
    "    C.get_cal()\n",
    "    print (b,C.drift_ppm)\n",
    "    noisy.append(C)\n",
    "    "
   ]
  },
  {
   "cell_type": "code",
   "execution_count": null,
   "id": "1628b375-5991-4316-98d5-fdc42278a4cc",
   "metadata": {},
   "outputs": [],
   "source": [
    "def fitanal(noisy, use_true_drift):\n",
    "    result = []\n",
    "    for no in noisy:\n",
    "        calshift = tcalshift#2003\n",
    "        seenbefore = []\n",
    "        while True:\n",
    "            d = dtrue if use_true_drift else no.drift_ppm\n",
    "            no.get_sig(calshift,d,\"data/samples/calib_filt.txt\")\n",
    "            calshift = int(calshift+no.cal_shift+0.5)%(2048*16)\n",
    "            print (\"shifting: \",no.cal_shift,calshift)\n",
    "            if (no.cal_shift==0) or (calshift in seenbefore) or (len(seenbefore)>10):\n",
    "                break\n",
    "            seenbefore.append(calshift)\n",
    "        result.append((no.A,no.rbeam))\n",
    "    return result\n",
    "\n",
    "#res_td = fitanal(noisy, True)\n",
    "res_fd = fitanal(noisy, False)\n",
    "\n",
    "\n",
    "#plt.plot(noisy[0].rbeam)\n",
    "#use_true_drift=False\n",
    "#fit"
   ]
  },
  {
   "cell_type": "code",
   "execution_count": null,
   "id": "00226e8b-a1d0-4974-9ae3-e04287985837",
   "metadata": {},
   "outputs": [],
   "source": [
    "def avg(v):\n",
    "    return v.reshape((-1,4)).mean(axis=1)\n",
    "\n",
    "cmap = matplotlib.cm.get_cmap('plasma')\n",
    "\n",
    "use = 'fitted'\n",
    "#use = 'true'\n",
    "res = res_fd if use == 'fitted' else res_td\n",
    "cf=noisy[0].cf\n",
    "\n",
    "def plus (num):\n",
    "    return \"+\"+str(num) if num>0 else str(num)\n",
    "\n",
    "for cc,(A,rbeam) in enumerate(res[::-1]):\n",
    "    clr = cmap(1-(cc+0.5)/len(noisy))\n",
    "\n",
    "    if A<0.2:\n",
    "        continue\n",
    "    plt.plot(avg(cf),avg(np.real(rbeam)/A),lw=2, color=clr, label=plus(dBlist[::-1][cc])+\" dB\" if cc%10==0 else None)#-0.1*cc)\n",
    "    plt.plot(avg(cf),avg(np.imag(rbeam)/A),lw=2, color=clr)#-0.1*cc)\n",
    "    \n",
    "#plt.semilogy()\n",
    "plt.ylim(-0.4,2.5)\n",
    "plt.xlim(0,50)\n",
    "plt.legend(loc='upper left')\n",
    "plt.xlabel('frequency [MHz]')\n",
    "plt.ylabel('recovered response')\n",
    "plt.savefig(f'unit_response_{use}.pdf')"
   ]
  },
  {
   "cell_type": "code",
   "execution_count": null,
   "id": "ec63f950-2451-460e-917e-9b37b5292d15",
   "metadata": {},
   "outputs": [],
   "source": [
    "fdvals = [r.mean()/A for A,r in res_fd]\n",
    "fderr = [np.sqrt((r/A).var()) for A,r in res_fd]\n",
    "tdvals = [r.mean()/A for A,r in res_td]\n",
    "tderr = [np.sqrt((r/A).var()) for A,r in res_td]\n",
    "\n",
    "plt.errorbar(dBlist,fdvals, yerr=fderr,fmt='bo')\n",
    "plt.errorbar(dBlist+0.2,tdvals,tderr,fmt='ro')\n",
    "plt.axline((0,1),slope=0,ls=':',color='k')\n",
    "plt.ylim(0.5,1.5)\n",
    "plt.plot([],[],'ro',label='true drift')\n",
    "plt.plot([],[],'bo',label='fitted drift')\n",
    "plt.xlabel('signal strength [dB]')\n",
    "plt.ylabel('recovery bias')\n",
    "plt.legend(loc='upper left')\n",
    "plt.savefig('bias-drift.pdf')"
   ]
  },
  {
   "cell_type": "code",
   "execution_count": null,
   "id": "dff97fe1-397b-40d7-8964-8e3c57ae478c",
   "metadata": {},
   "outputs": [],
   "source": [
    "data=np.array(noisy)[dBlist==20.0][0]\n",
    "\n",
    "ml = ['filt','band','step']\n",
    "res={}\n",
    "for m in ml:\n",
    "    calshift = 2003 \n",
    "    while True:\n",
    "        print (calshift)\n",
    "        data.get_sig(calshift,dtrue,f\"data/samples/calib_{m}.txt\")\n",
    "        calshift = (calshift+data.cal_shift)%(2048*16)\n",
    "        if data.cal_shift == 0:\n",
    "            break\n",
    "    res[m] = data.rbeam\n"
   ]
  },
  {
   "cell_type": "code",
   "execution_count": null,
   "id": "e4111bbb-eedc-43f6-8049-1662925135b9",
   "metadata": {},
   "outputs": [],
   "source": [
    "label={'filt':'filtered','band':'band limited', 'step':'nearest'}\n",
    "for m in ml:\n",
    "    plt.plot(avg(data.cf), avg(res[m])/10, label=label[m])\n",
    "#plt.ylim(0,2)\n",
    "plt.legend()\n",
    "plt.xlabel('frequency [MHz]')\n",
    "plt.ylabel('recovered response')\n",
    "plt.savefig('bias-alias.pdf')\n",
    "#plt.plot(avg(data.cf), avg(res_td[0][1]/10))\n",
    "#plt.ylim(-0.4,2.5)"
   ]
  }
 ],
 "metadata": {
  "kernelspec": {
   "display_name": "Python 3 (ipykernel)",
   "language": "python",
   "name": "python3"
  },
  "language_info": {
   "codemirror_mode": {
    "name": "ipython",
    "version": 3
   },
   "file_extension": ".py",
   "mimetype": "text/x-python",
   "name": "python",
   "nbconvert_exporter": "python",
   "pygments_lexer": "ipython3",
   "version": "3.10.1"
  }
 },
 "nbformat": 4,
 "nbformat_minor": 5
}
